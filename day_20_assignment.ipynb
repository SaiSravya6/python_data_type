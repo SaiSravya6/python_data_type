{
  "nbformat": 4,
  "nbformat_minor": 0,
  "metadata": {
    "colab": {
      "provenance": []
    },
    "kernelspec": {
      "name": "python3",
      "display_name": "Python 3"
    },
    "language_info": {
      "name": "python"
    }
  },
  "cells": [
    {
      "cell_type": "markdown",
      "source": [
        "  **Outline**"
      ],
      "metadata": {
        "id": "T_c5Th1gyd-u"
      }
    },
    {
      "cell_type": "code",
      "execution_count": null,
      "metadata": {
        "id": "-oDlxwO-tsCp"
      },
      "outputs": [],
      "source": [
        "What is Clustering?\n",
        "Applications of Clustering\n",
        "Distance Measures(Distance )\n",
        "Clustering Techniques\n",
        "Hierarchical Clustering\n",
        "Dendrogram(n-Clusters)\n",
        "Proximity Matrix\n",
        "Inter-Clustering Distance(Linkage)\n",
        "Python Implementation"
      ]
    },
    {
      "cell_type": "markdown",
      "source": [
        "**Applications** **of** **Clustering**"
      ],
      "metadata": {
        "id": "lbrGyKZB1ato"
      }
    },
    {
      "cell_type": "code",
      "source": [
        "1)Marketing\n",
        "2)Image Processing-Image Segmentation\n",
        "3)Banking-Otliers"
      ],
      "metadata": {
        "id": "NssgKyRQ0s6s"
      },
      "execution_count": null,
      "outputs": []
    },
    {
      "cell_type": "markdown",
      "source": [
        "**How** **we** **are** **going** **to** **make** **Clusters** **or** **Clustering** **Techniques**"
      ],
      "metadata": {
        "id": "H8BZTEOI1qbq"
      }
    },
    {
      "cell_type": "code",
      "source": [
        "Hierarchical Clustering\n",
        "1)Distance\n",
        "2)"
      ],
      "metadata": {
        "id": "t-ZvC6Jv1MNl"
      },
      "execution_count": null,
      "outputs": []
    }
  ]
}